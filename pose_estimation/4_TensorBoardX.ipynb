{
 "cells": [
  {
   "cell_type": "markdown",
   "source": [
    "# Hiển thị model bằng TensorBordX\n"
   ],
   "metadata": {}
  },
  {
   "cell_type": "code",
   "execution_count": null,
   "source": [
    "import torch\r\n",
    "from utils.openpose_net import OpenPoseNet\r\n",
    "\r\n",
    "net = OpenPoseNet()\r\n",
    "net.train()\r\n",
    "from tensorboardX import SummaryWriter\r\n",
    "writer = SummaryWriter(\"./tbX/\")\r\n",
    "\r\n",
    "\r\n",
    "\r\n",
    "batch_size = 1\r\n",
    "dummy_img = torch.rand(batch_size, 3, 368, 368)\r\n",
    "\r\n",
    "\r\n",
    "writer.add_graph(net, (dummy_img, ))\r\n",
    "writer.close()\r\n",
    "\r\n"
   ],
   "outputs": [],
   "metadata": {}
  },
  {
   "cell_type": "code",
   "execution_count": null,
   "source": [],
   "outputs": [],
   "metadata": {}
  }
 ],
 "metadata": {
  "kernelspec": {
   "display_name": "Python 3",
   "language": "python",
   "name": "python3"
  },
  "language_info": {
   "codemirror_mode": {
    "name": "ipython",
    "version": 3
   },
   "file_extension": ".py",
   "mimetype": "text/x-python",
   "name": "python",
   "nbconvert_exporter": "python",
   "pygments_lexer": "ipython3",
   "version": "3.7.1"
  }
 },
 "nbformat": 4,
 "nbformat_minor": 2
}