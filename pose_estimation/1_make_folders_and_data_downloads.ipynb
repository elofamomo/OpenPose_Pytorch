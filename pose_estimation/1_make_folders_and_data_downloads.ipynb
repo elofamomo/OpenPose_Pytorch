{
 "cells": [
  {
   "cell_type": "markdown",
   "source": [],
   "metadata": {}
  },
  {
   "cell_type": "code",
   "execution_count": 1,
   "source": [
    "import os\r\n",
    "import urllib.request\r\n",
    "import zipfile\r\n",
    "import tarfile"
   ],
   "outputs": [],
   "metadata": {}
  },
  {
   "cell_type": "code",
   "execution_count": 2,
   "source": [
    "\r\n",
    "data_dir = \"./data/\"\r\n",
    "if not os.path.exists(data_dir):\r\n",
    "    os.mkdir(data_dir)"
   ],
   "outputs": [],
   "metadata": {}
  },
  {
   "cell_type": "code",
   "execution_count": 3,
   "source": [
    "\r\n",
    "weights_dir = \"./weights/\"\r\n",
    "if not os.path.exists(weights_dir):\r\n",
    "    os.mkdir(weights_dir)"
   ],
   "outputs": [],
   "metadata": {}
  },
  {
   "cell_type": "code",
   "execution_count": null,
   "source": [
    "\r\n",
    "\r\n",
    "url =  \"http://images.cocodataset.org/zips/val2014.zip\"\r\n",
    "target_path = os.path.join(data_dir, \"val2014.zip\") \r\n",
    "\r\n",
    "if not os.path.exists(target_path):\r\n",
    "    urllib.request.urlretrieve(url, target_path)\r\n",
    "    \r\n",
    "    zip = zipfile.ZipFile(target_path)\r\n",
    "    zip.extractall(data_dir)  \r\n",
    "    zip.close()\r\n",
    "    \r\n"
   ],
   "outputs": [],
   "metadata": {}
  },
  {
   "cell_type": "code",
   "execution_count": 6,
   "source": [
    "# Download COCO.json and input into data folder\r\n",
    "\r\n",
    "\r\n",
    "# https://www.dropbox.com/s/0sj2q24hipiiq5t/COCO.json?dl=0"
   ],
   "outputs": [
    {
     "output_type": "error",
     "ename": "SyntaxError",
     "evalue": "invalid syntax (<ipython-input-6-f2e4267a63bc>, line 4)",
     "traceback": [
      "\u001b[1;36m  File \u001b[1;32m\"<ipython-input-6-f2e4267a63bc>\"\u001b[1;36m, line \u001b[1;32m4\u001b[0m\n\u001b[1;33m    https://www.dropbox.com/s/0sj2q24hipiiq5t/COCO.json?dl=0\u001b[0m\n\u001b[1;37m          ^\u001b[0m\n\u001b[1;31mSyntaxError\u001b[0m\u001b[1;31m:\u001b[0m invalid syntax\n"
     ]
    }
   ],
   "metadata": {}
  },
  {
   "cell_type": "code",
   "execution_count": 7,
   "source": [
    "# Download mask data and input into data foloder\r\n",
    "\r\n",
    "# https://www.dropbox.com/s/bd9ty7b4fqd5ebf/mask.tar.gz?dl=0"
   ],
   "outputs": [
    {
     "output_type": "error",
     "ename": "SyntaxError",
     "evalue": "invalid syntax (<ipython-input-7-9e955a0e429a>, line 3)",
     "traceback": [
      "\u001b[1;36m  File \u001b[1;32m\"<ipython-input-7-9e955a0e429a>\"\u001b[1;36m, line \u001b[1;32m3\u001b[0m\n\u001b[1;33m    https://www.dropbox.com/s/bd9ty7b4fqd5ebf/mask.tar.gz?dl=0\u001b[0m\n\u001b[1;37m          ^\u001b[0m\n\u001b[1;31mSyntaxError\u001b[0m\u001b[1;31m:\u001b[0m invalid syntax\n"
     ]
    }
   ],
   "metadata": {}
  },
  {
   "cell_type": "code",
   "execution_count": 8,
   "source": [
    "# giải nén tar gz\r\n",
    "save_path = os.path.join(data_dir, \"mask.tar.gz\") \r\n",
    "\r\n",
    "with tarfile.open(save_path, 'r:*') as tar:\r\n",
    "    tar.extractall(data_dir)\r\n"
   ],
   "outputs": [],
   "metadata": {}
  },
  {
   "cell_type": "code",
   "execution_count": null,
   "source": [
    "# download model and input to weights\r\n",
    "\r\n",
    "https://www.dropbox.com/s/5v654d2u65fuvyr/pose_model_scratch.pth?dl=0\r\n",
    "    \r\n"
   ],
   "outputs": [],
   "metadata": {}
  },
  {
   "cell_type": "markdown",
   "source": [
    "以上"
   ],
   "metadata": {}
  }
 ],
 "metadata": {
  "kernelspec": {
   "display_name": "Python 3",
   "language": "python",
   "name": "python3"
  },
  "language_info": {
   "codemirror_mode": {
    "name": "ipython",
    "version": 3
   },
   "file_extension": ".py",
   "mimetype": "text/x-python",
   "name": "python",
   "nbconvert_exporter": "python",
   "pygments_lexer": "ipython3",
   "version": "3.7.10"
  }
 },
 "nbformat": 4,
 "nbformat_minor": 2
}