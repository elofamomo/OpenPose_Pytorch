{
 "cells": [
  {
   "cell_type": "markdown",
   "source": [
    "# Thực hiện học trên model\n"
   ],
   "metadata": {}
  },
  {
   "cell_type": "code",
   "execution_count": 1,
   "source": [
    "\r\n",
    "import random\r\n",
    "import math\r\n",
    "import time\r\n",
    "import pandas as pd\r\n",
    "import numpy as np\r\n",
    "import torch\r\n",
    "import torch.utils.data as data\r\n",
    "import torch.nn as nn\r\n",
    "import torch.nn.functional as F\r\n",
    "import torch.optim as optim\r\n"
   ],
   "outputs": [],
   "metadata": {}
  },
  {
   "cell_type": "code",
   "execution_count": 2,
   "source": [
    "# Thiết định các giá trị ban đầu\r\n",
    "torch.manual_seed(1234)\r\n",
    "np.random.seed(1234)\r\n",
    "random.seed(1234)"
   ],
   "outputs": [],
   "metadata": {}
  },
  {
   "cell_type": "markdown",
   "source": [
    "# Tạo DataLoader"
   ],
   "metadata": {}
  },
  {
   "cell_type": "code",
   "execution_count": 13,
   "source": [
    "from utils.dataloader import make_datapath_list, DataTransform, COCOkeypointsDataset\r\n",
    "\r\n",
    "\r\n",
    "train_img_list, train_mask_list, val_img_list, val_mask_list, train_meta_list, val_meta_list = make_datapath_list(\r\n",
    "    rootpath=\"./data/\")\r\n",
    "\r\n",
    "# Tạo dataset\r\n",
    "train_dataset = COCOkeypointsDataset(\r\n",
    "    val_img_list, val_mask_list, val_meta_list, phase=\"train\", transform=DataTransform())\r\n",
    "\r\n",
    "\r\n",
    "val_dataset = CocokeypointsDataset(val_img_list, val_mask_list, val_meta_list, phase=\"val\", transform=DataTransform())\r\n",
    "\r\n",
    "# Tạo DataLoader\r\n",
    "batch_size = 32\r\n",
    "\r\n",
    "train_dataloader = data.DataLoader(\r\n",
    "    train_dataset, batch_size=batch_size, shuffle=True)\r\n",
    "val_dataloader = data.DataLoader(\r\n",
    "    val_dataset, batch_size=batch_size, shuffle=False)\r\n",
    "\r\n",
    "dataloaders_dict = {\"train\": train_dataloader, \"val\":None  }\r\n"
   ],
   "outputs": [
    {
     "output_type": "error",
     "ename": "NameError",
     "evalue": "name 'CocokeypointsDataset' is not defined",
     "traceback": [
      "\u001b[1;31m---------------------------------------------------------------------------\u001b[0m",
      "\u001b[1;31mNameError\u001b[0m                                 Traceback (most recent call last)",
      "\u001b[1;32m<ipython-input-13-507883a0bfdf>\u001b[0m in \u001b[0;36m<module>\u001b[1;34m\u001b[0m\n\u001b[0;32m     10\u001b[0m \u001b[1;33m\u001b[0m\u001b[0m\n\u001b[0;32m     11\u001b[0m \u001b[1;33m\u001b[0m\u001b[0m\n\u001b[1;32m---> 12\u001b[1;33m \u001b[0mval_dataset\u001b[0m \u001b[1;33m=\u001b[0m \u001b[0mCocokeypointsDataset\u001b[0m\u001b[1;33m(\u001b[0m\u001b[0mval_img_list\u001b[0m\u001b[1;33m,\u001b[0m \u001b[0mval_mask_list\u001b[0m\u001b[1;33m,\u001b[0m \u001b[0mval_meta_list\u001b[0m\u001b[1;33m,\u001b[0m \u001b[0mphase\u001b[0m\u001b[1;33m=\u001b[0m\u001b[1;34m\"val\"\u001b[0m\u001b[1;33m,\u001b[0m \u001b[0mtransform\u001b[0m\u001b[1;33m=\u001b[0m\u001b[0mDataTransform\u001b[0m\u001b[1;33m(\u001b[0m\u001b[1;33m)\u001b[0m\u001b[1;33m)\u001b[0m\u001b[1;33m\u001b[0m\u001b[1;33m\u001b[0m\u001b[0m\n\u001b[0m\u001b[0;32m     13\u001b[0m \u001b[1;33m\u001b[0m\u001b[0m\n\u001b[0;32m     14\u001b[0m \u001b[1;31m# Tạo DataLoader\u001b[0m\u001b[1;33m\u001b[0m\u001b[1;33m\u001b[0m\u001b[1;33m\u001b[0m\u001b[0m\n",
      "\u001b[1;31mNameError\u001b[0m: name 'CocokeypointsDataset' is not defined"
     ]
    }
   ],
   "metadata": {}
  },
  {
   "cell_type": "markdown",
   "source": [
    "# Tạo Model "
   ],
   "metadata": {}
  },
  {
   "cell_type": "code",
   "execution_count": 8,
   "source": [
    "from utils.openpose_net import OpenPoseNet\r\n",
    "net = OpenPoseNet()\r\n"
   ],
   "outputs": [],
   "metadata": {}
  },
  {
   "cell_type": "markdown",
   "source": [
    "# Định nghĩa hàm mất mát"
   ],
   "metadata": {}
  },
  {
   "cell_type": "code",
   "execution_count": null,
   "source": [
    "class OpenPoseLoss(nn.Module):\r\n",
    "    def __init__(self):\r\n",
    "        super(OpenPoseLoss, self).__init__()\r\n",
    "\r\n",
    "    def forward(self, saved_for_loss, heatmap_target, heat_mask, paf_target, paf_mask):\r\n",
    "        \"\"\"\r\n",
    "        tính loss\r\n",
    "        Parameters\r\n",
    "        ----------\r\n",
    "        saved_for_loss : Output ofOpenPoseNet (list)\r\n",
    "\r\n",
    "        heatmap_target : [num_batch, 19, 46, 46]\r\n",
    "            Anotation information\r\n",
    "\r\n",
    "        heatmap_mask : [num_batch, 19, 46, 46]\r\n",
    "            \r\n",
    "\r\n",
    "        paf_target : [num_batch, 38, 46, 46]\r\n",
    "            PAF Anotation\r\n",
    "\r\n",
    "        paf_mask : [num_batch, 38, 46, 46]\r\n",
    "            PAF mask\r\n",
    "\r\n",
    "        Returns\r\n",
    "        -------\r\n",
    "        loss : \r\n",
    "        \"\"\"\r\n",
    "\r\n",
    "        total_loss = 0\r\n",
    "        \r\n",
    "        for j in range(6):\r\n",
    "\r\n",
    "            # Không tính những vị trí của mask\r\n",
    "            pred1 = saved_for_loss[2 * j] * paf_mask\r\n",
    "            gt1 = paf_target.float() * paf_mask\r\n",
    "\r\n",
    "            # heatmaps\r\n",
    "            pred2 = saved_for_loss[2 * j + 1] * heat_mask\r\n",
    "            gt2 = heatmap_target.float()*heat_mask\r\n",
    "\r\n",
    "            total_loss += F.mse_loss(pred1, gt1, reduction='mean') + \\\r\n",
    "                F.mse_loss(pred2, gt2, reduction='mean')\r\n",
    "\r\n",
    "        return total_loss\r\n",
    "\r\n",
    "\r\n",
    "criterion = OpenPoseLoss()\r\n"
   ],
   "outputs": [],
   "metadata": {}
  },
  {
   "cell_type": "markdown",
   "source": [
    "# Thiết định optimizer"
   ],
   "metadata": {}
  },
  {
   "cell_type": "code",
   "execution_count": null,
   "source": [
    "optimizer = optim.SGD(net.parameters(), lr=1e-2,\r\n",
    "                      momentum=0.9,\r\n",
    "                      weight_decay=0.0001)\r\n"
   ],
   "outputs": [],
   "metadata": {}
  },
  {
   "cell_type": "markdown",
   "source": [
    "# Thực hiện việc học"
   ],
   "metadata": {}
  },
  {
   "cell_type": "code",
   "execution_count": 6,
   "source": [
    "def train_model(net, dataloaders_dict, criterion, optimizer, num_epochs):\r\n",
    "   \r\n",
    "    device = torch.device(\"cuda:0\" if torch.cuda.is_available() else \"cpu\")\r\n",
    "    print(\"Use：\", device)\r\n",
    "\r\n",
    "    \r\n",
    "    net.to(device)\r\n",
    "\r\n",
    "    torch.backends.cudnn.benchmark = True\r\n",
    "\r\n",
    "    num_train_imgs = len(dataloaders_dict[\"train\"].dataset)\r\n",
    "    batch_size = dataloaders_dict[\"train\"].batch_size\r\n",
    "\r\n",
    "    iteration = 1\r\n",
    "\r\n",
    "    # vòng học\r\n",
    "    for epoch in range(num_epochs):\r\n",
    "\r\n",
    "        \r\n",
    "        t_epoch_start = time.time()\r\n",
    "        t_iter_start = time.time()\r\n",
    "        epoch_train_loss = 0.0  \r\n",
    "        epoch_val_loss = 0.0  \r\n",
    "\r\n",
    "        print('-------------')\r\n",
    "        print('Epoch {}/{}'.format(epoch+1, num_epochs))\r\n",
    "        print('-------------')\r\n",
    "\r\n",
    "      \r\n",
    "        for phase in ['train', 'val']:\r\n",
    "            if phase == 'train':\r\n",
    "                net.train()  \r\n",
    "                optimizer.zero_grad()\r\n",
    "                print('（train）')\r\n",
    "\r\n",
    "           \r\n",
    "            #else:\r\n",
    "               # continue\r\n",
    "                # net.eval()   \r\n",
    "                 #print('-------------')\r\n",
    "                 #print('（val）')\r\n",
    "\r\n",
    "            \r\n",
    "            for imges, heatmap_target, heat_mask, paf_target, paf_mask in dataloaders_dict[phase]:\r\n",
    "                if imges.size()[0] == 1:\r\n",
    "                    continue\r\n",
    "\r\n",
    "               \r\n",
    "                imges = imges.to(device)\r\n",
    "                heatmap_target = heatmap_target.to(device)\r\n",
    "                heat_mask = heat_mask.to(device)\r\n",
    "                paf_target = paf_target.to(device)\r\n",
    "                paf_mask = paf_mask.to(device)\r\n",
    "\r\n",
    "                \r\n",
    "                optimizer.zero_grad()\r\n",
    "\r\n",
    "                # tính forward\r\n",
    "                with torch.set_grad_enabled(phase == 'train'):\r\n",
    "                    _, saved_for_loss = net(imges)\r\n",
    "\r\n",
    "                    loss = criterion(saved_for_loss, heatmap_target,\r\n",
    "                                     heat_mask, paf_target, paf_mask)\r\n",
    "                    del saved_for_loss\r\n",
    "                    # gửi thông tin loss theo back propagation khi học\r\n",
    "                    if phase == 'train':\r\n",
    "                        loss.backward()\r\n",
    "                        optimizer.step()\r\n",
    "\r\n",
    "                        if (iteration % 10 == 0):\r\n",
    "                            t_iter_finish = time.time()\r\n",
    "                            duration = t_iter_finish - t_iter_start\r\n",
    "                            print('Iteration{} || Loss: {:.4f} || 10iter: {:.4f} sec.'.format(\r\n",
    "                                iteration, loss.item()/batch_size, duration))\r\n",
    "                            t_iter_start = time.time()\r\n",
    "\r\n",
    "                        epoch_train_loss += loss.item()\r\n",
    "                        iteration += 1\r\n",
    "\r\n",
    "                    \r\n",
    "                     #else:\r\n",
    "                       # epoch_val_loss += loss.item()\r\n",
    "\r\n",
    "        t_epoch_finish = time.time()\r\n",
    "        print('-------------')\r\n",
    "        print('epoch {} || Epoch_TRAIN_Loss:{:.4f} ||Epoch_VAL_Loss:{:.4f}'.format(\r\n",
    "            epoch+1, epoch_train_loss/num_train_imgs, 0))\r\n",
    "        print('timer:  {:.4f} sec.'.format(t_epoch_finish - t_epoch_start))\r\n",
    "        t_epoch_start = time.time()\r\n",
    "\r\n",
    "    # Lưu thông tin sau khi học\r\n",
    "    torch.save(net.state_dict(), 'weights/openpose_net_' +\r\n",
    "               str(epoch+1) + '.pth')\r\n"
   ],
   "outputs": [],
   "metadata": {}
  },
  {
   "cell_type": "code",
   "execution_count": 12,
   "source": [
    "\r\n",
    "num_epochs = 30\r\n",
    "train_model(net, dataloaders_dict, criterion, optimizer, num_epochs=num_epochs)\r\n"
   ],
   "outputs": [
    {
     "output_type": "error",
     "ename": "NameError",
     "evalue": "name 'dataloaders_dict' is not defined",
     "traceback": [
      "\u001b[1;31m---------------------------------------------------------------------------\u001b[0m",
      "\u001b[1;31mNameError\u001b[0m                                 Traceback (most recent call last)",
      "\u001b[1;32m<ipython-input-12-d2d9b192497f>\u001b[0m in \u001b[0;36m<module>\u001b[1;34m\u001b[0m\n\u001b[0;32m      1\u001b[0m \u001b[1;31m# HỌc (chạy 1 lần)\u001b[0m\u001b[1;33m\u001b[0m\u001b[1;33m\u001b[0m\u001b[1;33m\u001b[0m\u001b[0m\n\u001b[0;32m      2\u001b[0m \u001b[0mnum_epochs\u001b[0m \u001b[1;33m=\u001b[0m \u001b[1;36m2\u001b[0m\u001b[1;33m\u001b[0m\u001b[1;33m\u001b[0m\u001b[0m\n\u001b[1;32m----> 3\u001b[1;33m \u001b[0mtrain_model\u001b[0m\u001b[1;33m(\u001b[0m\u001b[0mnet\u001b[0m\u001b[1;33m,\u001b[0m \u001b[0mdataloaders_dict\u001b[0m\u001b[1;33m,\u001b[0m \u001b[0mcriterion\u001b[0m\u001b[1;33m,\u001b[0m \u001b[0moptimizer\u001b[0m\u001b[1;33m,\u001b[0m \u001b[0mnum_epochs\u001b[0m\u001b[1;33m=\u001b[0m\u001b[0mnum_epochs\u001b[0m\u001b[1;33m)\u001b[0m\u001b[1;33m\u001b[0m\u001b[1;33m\u001b[0m\u001b[0m\n\u001b[0m",
      "\u001b[1;31mNameError\u001b[0m: name 'dataloaders_dict' is not defined"
     ]
    }
   ],
   "metadata": {}
  },
  {
   "cell_type": "code",
   "execution_count": null,
   "source": [],
   "outputs": [],
   "metadata": {}
  }
 ],
 "metadata": {
  "kernelspec": {
   "display_name": "Python 3",
   "language": "python",
   "name": "python3"
  }
 },
 "nbformat": 4,
 "nbformat_minor": 2
}