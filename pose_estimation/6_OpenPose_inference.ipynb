{
 "cells": [
  {
   "cell_type": "markdown",
   "source": [
    "# Suy đoán tư thế"
   ],
   "metadata": {
    "id": "zMMvyHhxGgtt"
   }
  },
  {
   "cell_type": "code",
   "execution_count": 2,
   "source": [
    "from PIL import Image\r\n",
    "import cv2\r\n",
    "import numpy as np\r\n",
    "from matplotlib import cm\r\n",
    "import matplotlib.pyplot as plt\r\n",
    "%matplotlib inline\r\n",
    "\r\n",
    "import torch\r\n",
    "\r\n",
    "test_image = './data/dance.jpg'"
   ],
   "outputs": [
    {
     "output_type": "error",
     "ename": "ModuleNotFoundError",
     "evalue": "No module named 'torch'",
     "traceback": [
      "\u001b[1;31m---------------------------------------------------------------------------\u001b[0m",
      "\u001b[1;31mModuleNotFoundError\u001b[0m                       Traceback (most recent call last)",
      "\u001b[1;32m<ipython-input-2-04a4ec328ae6>\u001b[0m in \u001b[0;36m<module>\u001b[1;34m\u001b[0m\n\u001b[0;32m      6\u001b[0m \u001b[0mget_ipython\u001b[0m\u001b[1;33m(\u001b[0m\u001b[1;33m)\u001b[0m\u001b[1;33m.\u001b[0m\u001b[0mrun_line_magic\u001b[0m\u001b[1;33m(\u001b[0m\u001b[1;34m'matplotlib'\u001b[0m\u001b[1;33m,\u001b[0m \u001b[1;34m'inline'\u001b[0m\u001b[1;33m)\u001b[0m\u001b[1;33m\u001b[0m\u001b[1;33m\u001b[0m\u001b[0m\n\u001b[0;32m      7\u001b[0m \u001b[1;33m\u001b[0m\u001b[0m\n\u001b[1;32m----> 8\u001b[1;33m \u001b[1;32mimport\u001b[0m \u001b[0mtorch\u001b[0m\u001b[1;33m\u001b[0m\u001b[1;33m\u001b[0m\u001b[0m\n\u001b[0m\u001b[0;32m      9\u001b[0m \u001b[1;33m\u001b[0m\u001b[0m\n\u001b[0;32m     10\u001b[0m \u001b[0mtest_image\u001b[0m \u001b[1;33m=\u001b[0m \u001b[1;34m'./data/dance.jpg'\u001b[0m\u001b[1;33m\u001b[0m\u001b[1;33m\u001b[0m\u001b[0m\n",
      "\u001b[1;31mModuleNotFoundError\u001b[0m: No module named 'torch'"
     ]
    }
   ],
   "metadata": {
    "id": "hHMXPJsSGgt2"
   }
  },
  {
   "cell_type": "code",
   "execution_count": null,
   "source": [
    "from utils.openpose_net import OpenPoseNet\r\n",
    "\r\n",
    "net = OpenPoseNet()\r\n",
    "\r\n",
    "# load weights of model\r\n",
    "net_weights = torch.load(\r\n",
    "    './weights/pose_model_scratch.pth', map_location={'cuda:0': 'cpu'})\r\n",
    "keys = list(net_weights.keys())\r\n",
    "\r\n",
    "weights_load = {}\r\n",
    "\r\n",
    "\r\n",
    "for i in range(len(keys)):\r\n",
    "    weights_load[list(net.state_dict().keys())[i]\r\n",
    "                 ] = net_weights[list(keys)[i]]\r\n",
    "\r\n",
    "state = net.state_dict()\r\n",
    "state.update(weights_load)\r\n",
    "net.load_state_dict(state)\r\n",
    "\r\n",
    "print('load done')\r\n"
   ],
   "outputs": [
    {
     "output_type": "stream",
     "name": "stdout",
     "text": [
      "load done\n"
     ]
    }
   ],
   "metadata": {
    "id": "Fg_MjI-OGgt3",
    "outputId": "3cc78f55-03fb-4cf5-9541-cd242324c8b2"
   }
  },
  {
   "cell_type": "code",
   "execution_count": 3,
   "source": [
    "# Read image\r\n",
    "\r\n",
    "oriImg = cv2.imread(test_image)  # B,G,R\r\n",
    "\r\n",
    "# BGR->RGB\r\n",
    "oriImg = cv2.cvtColor(oriImg, cv2.COLOR_BGR2RGB)\r\n",
    "plt.imshow(oriImg)\r\n",
    "plt.show()\r\n",
    "\r\n",
    "# Resize\r\n",
    "size = (368, 368)\r\n",
    "img = cv2.resize(oriImg, size, interpolation=cv2.INTER_CUBIC)\r\n",
    "img = img.astype(np.float32) / 255.\r\n",
    "\r\n",
    "# chuẩn hóa\r\n",
    "color_mean = [0.485, 0.456, 0.406]\r\n",
    "color_std = [0.229, 0.224, 0.225]\r\n",
    "\r\n",
    "preprocessed_img = img.copy()  \r\n",
    "\r\n",
    "for i in range(3):\r\n",
    "    preprocessed_img[:, :, i] = preprocessed_img[:, :, i] - color_mean[i]\r\n",
    "    preprocessed_img[:, :, i] = preprocessed_img[:, :, i] / color_std[i]\r\n",
    "\r\n",
    "# （height 、width、colors）→（colors、height、width）\r\n",
    "img = preprocessed_img.transpose((2, 0, 1)).astype(np.float32)\r\n",
    "\r\n",
    "# cho thông tin vào tensor\r\n",
    "img = torch.from_numpy(img)\r\n",
    "\r\n",
    "x = img.unsqueeze(0)\r\n"
   ],
   "outputs": [
    {
     "output_type": "error",
     "ename": "NameError",
     "evalue": "name 'test_image' is not defined",
     "traceback": [
      "\u001b[1;31m---------------------------------------------------------------------------\u001b[0m",
      "\u001b[1;31mNameError\u001b[0m                                 Traceback (most recent call last)",
      "\u001b[1;32m<ipython-input-3-58ac0f451e01>\u001b[0m in \u001b[0;36m<module>\u001b[1;34m\u001b[0m\n\u001b[0;32m      1\u001b[0m \u001b[1;31m# Read image\u001b[0m\u001b[1;33m\u001b[0m\u001b[1;33m\u001b[0m\u001b[1;33m\u001b[0m\u001b[0m\n\u001b[0;32m      2\u001b[0m \u001b[1;33m\u001b[0m\u001b[0m\n\u001b[1;32m----> 3\u001b[1;33m \u001b[0moriImg\u001b[0m \u001b[1;33m=\u001b[0m \u001b[0mcv2\u001b[0m\u001b[1;33m.\u001b[0m\u001b[0mimread\u001b[0m\u001b[1;33m(\u001b[0m\u001b[0mtest_image\u001b[0m\u001b[1;33m)\u001b[0m  \u001b[1;31m# B,G,R\u001b[0m\u001b[1;33m\u001b[0m\u001b[1;33m\u001b[0m\u001b[0m\n\u001b[0m\u001b[0;32m      4\u001b[0m \u001b[1;33m\u001b[0m\u001b[0m\n\u001b[0;32m      5\u001b[0m \u001b[1;31m# BGR->RGB\u001b[0m\u001b[1;33m\u001b[0m\u001b[1;33m\u001b[0m\u001b[1;33m\u001b[0m\u001b[0m\n",
      "\u001b[1;31mNameError\u001b[0m: name 'test_image' is not defined"
     ]
    }
   ],
   "metadata": {
    "id": "9xX2RJt_Ggt4",
    "outputId": "610eadec-b0e9-4d3e-ca1c-92ff8479e60f"
   }
  },
  {
   "cell_type": "code",
   "execution_count": null,
   "source": [
    "# Tạo heatmap\r\n",
    "net.eval()\r\n",
    "predicted_outputs, _ = net(x)\r\n",
    "\r\n",
    "pafs = predicted_outputs[0][0].detach().numpy().transpose(1, 2, 0)\r\n",
    "heatmaps = predicted_outputs[1][0].detach().numpy().transpose(1, 2, 0)\r\n",
    "\r\n",
    "pafs = cv2.resize(pafs, size, interpolation=cv2.INTER_CUBIC)\r\n",
    "heatmaps = cv2.resize(heatmaps, size, interpolation=cv2.INTER_CUBIC)\r\n",
    "\r\n",
    "pafs = cv2.resize(\r\n",
    "    pafs, (oriImg.shape[1], oriImg.shape[0]), interpolation=cv2.INTER_CUBIC)\r\n",
    "heatmaps = cv2.resize(\r\n",
    "    heatmaps, (oriImg.shape[1], oriImg.shape[0]), interpolation=cv2.INTER_CUBIC)\r\n"
   ],
   "outputs": [],
   "metadata": {
    "id": "gRwwD0jTGgt4"
   }
  },
  {
   "cell_type": "code",
   "execution_count": 4,
   "source": [
    "# Xem 1 số heatmap\r\n",
    "heat_map = heatmaps[:, :, 6]  # 6: khửu tay\r\n",
    "heat_map = Image.fromarray(np.uint8(cm.jet(heat_map)*255))\r\n",
    "heat_map = np.asarray(heat_map.convert('RGB'))\r\n",
    "\r\n",
    "blend_img = cv2.addWeighted(oriImg, 0.5, heat_map, 0.5, 0)\r\n",
    "plt.imshow(blend_img)\r\n",
    "plt.show()\r\n",
    "\r\n",
    "\r\n",
    "heat_map = heatmaps[:, :, 7]  # 7:cổ tay\r\n",
    "heat_map = Image.fromarray(np.uint8(cm.jet(heat_map)*255))\r\n",
    "heat_map = np.asarray(heat_map.convert('RGB'))\r\n",
    "\r\n",
    "blend_img = cv2.addWeighted(oriImg, 0.5, heat_map, 0.5, 0)\r\n",
    "plt.imshow(blend_img)\r\n",
    "plt.show()\r\n",
    "\r\n",
    "# xem paf vectors\r\n",
    "paf = pafs[:, :, 24]\r\n",
    "paf = Image.fromarray(np.uint8(cm.jet(paf)*255))\r\n",
    "paf = np.asarray(paf.convert('RGB'))\r\n",
    "\r\n",
    "\r\n",
    "blend_img = cv2.addWeighted(oriImg, 0.5, paf, 0.5, 0)\r\n",
    "plt.imshow(blend_img)\r\n",
    "plt.show()\r\n"
   ],
   "outputs": [
    {
     "output_type": "error",
     "ename": "NameError",
     "evalue": "name 'heatmaps' is not defined",
     "traceback": [
      "\u001b[1;31m---------------------------------------------------------------------------\u001b[0m",
      "\u001b[1;31mNameError\u001b[0m                                 Traceback (most recent call last)",
      "\u001b[1;32m<ipython-input-4-7a8fab6886ab>\u001b[0m in \u001b[0;36m<module>\u001b[1;34m\u001b[0m\n\u001b[0;32m      1\u001b[0m \u001b[1;31m# Xem 1 số heatmap\u001b[0m\u001b[1;33m\u001b[0m\u001b[1;33m\u001b[0m\u001b[1;33m\u001b[0m\u001b[0m\n\u001b[1;32m----> 2\u001b[1;33m \u001b[0mheat_map\u001b[0m \u001b[1;33m=\u001b[0m \u001b[0mheatmaps\u001b[0m\u001b[1;33m[\u001b[0m\u001b[1;33m:\u001b[0m\u001b[1;33m,\u001b[0m \u001b[1;33m:\u001b[0m\u001b[1;33m,\u001b[0m \u001b[1;36m6\u001b[0m\u001b[1;33m]\u001b[0m  \u001b[1;31m# 6: khửu tay\u001b[0m\u001b[1;33m\u001b[0m\u001b[1;33m\u001b[0m\u001b[0m\n\u001b[0m\u001b[0;32m      3\u001b[0m \u001b[0mheat_map\u001b[0m \u001b[1;33m=\u001b[0m \u001b[0mImage\u001b[0m\u001b[1;33m.\u001b[0m\u001b[0mfromarray\u001b[0m\u001b[1;33m(\u001b[0m\u001b[0mnp\u001b[0m\u001b[1;33m.\u001b[0m\u001b[0muint8\u001b[0m\u001b[1;33m(\u001b[0m\u001b[0mcm\u001b[0m\u001b[1;33m.\u001b[0m\u001b[0mjet\u001b[0m\u001b[1;33m(\u001b[0m\u001b[0mheat_map\u001b[0m\u001b[1;33m)\u001b[0m\u001b[1;33m*\u001b[0m\u001b[1;36m255\u001b[0m\u001b[1;33m)\u001b[0m\u001b[1;33m)\u001b[0m\u001b[1;33m\u001b[0m\u001b[1;33m\u001b[0m\u001b[0m\n\u001b[0;32m      4\u001b[0m \u001b[0mheat_map\u001b[0m \u001b[1;33m=\u001b[0m \u001b[0mnp\u001b[0m\u001b[1;33m.\u001b[0m\u001b[0masarray\u001b[0m\u001b[1;33m(\u001b[0m\u001b[0mheat_map\u001b[0m\u001b[1;33m.\u001b[0m\u001b[0mconvert\u001b[0m\u001b[1;33m(\u001b[0m\u001b[1;34m'RGB'\u001b[0m\u001b[1;33m)\u001b[0m\u001b[1;33m)\u001b[0m\u001b[1;33m\u001b[0m\u001b[1;33m\u001b[0m\u001b[0m\n\u001b[0;32m      5\u001b[0m \u001b[1;33m\u001b[0m\u001b[0m\n",
      "\u001b[1;31mNameError\u001b[0m: name 'heatmaps' is not defined"
     ]
    }
   ],
   "metadata": {
    "id": "cd-YecEqGgt5",
    "outputId": "2c992171-dd90-41ac-9332-707161bc0884"
   }
  },
  {
   "cell_type": "code",
   "execution_count": null,
   "source": [
    "from utils.decode_pose import decode_pose\r\n",
    "_, result_img, _, _ = decode_pose(oriImg, heatmaps, pafs)\r\n"
   ],
   "outputs": [],
   "metadata": {
    "id": "yhR2IvFEGgt5"
   }
  },
  {
   "cell_type": "code",
   "execution_count": 5,
   "source": [
    "\r\n",
    "plt.imshow(oriImg)\r\n",
    "plt.show()\r\n",
    "\r\n",
    "plt.imshow(result_img)\r\n",
    "plt.show()\r\n"
   ],
   "outputs": [
    {
     "output_type": "error",
     "ename": "NameError",
     "evalue": "name 'oriImg' is not defined",
     "traceback": [
      "\u001b[1;31m---------------------------------------------------------------------------\u001b[0m",
      "\u001b[1;31mNameError\u001b[0m                                 Traceback (most recent call last)",
      "\u001b[1;32m<ipython-input-5-4f782f7709e5>\u001b[0m in \u001b[0;36m<module>\u001b[1;34m\u001b[0m\n\u001b[1;32m----> 1\u001b[1;33m \u001b[0mplt\u001b[0m\u001b[1;33m.\u001b[0m\u001b[0mimshow\u001b[0m\u001b[1;33m(\u001b[0m\u001b[0moriImg\u001b[0m\u001b[1;33m)\u001b[0m\u001b[1;33m\u001b[0m\u001b[1;33m\u001b[0m\u001b[0m\n\u001b[0m\u001b[0;32m      2\u001b[0m \u001b[0mplt\u001b[0m\u001b[1;33m.\u001b[0m\u001b[0mshow\u001b[0m\u001b[1;33m(\u001b[0m\u001b[1;33m)\u001b[0m\u001b[1;33m\u001b[0m\u001b[1;33m\u001b[0m\u001b[0m\n\u001b[0;32m      3\u001b[0m \u001b[1;33m\u001b[0m\u001b[0m\n\u001b[0;32m      4\u001b[0m \u001b[0mplt\u001b[0m\u001b[1;33m.\u001b[0m\u001b[0mimshow\u001b[0m\u001b[1;33m(\u001b[0m\u001b[0mresult_img\u001b[0m\u001b[1;33m)\u001b[0m\u001b[1;33m\u001b[0m\u001b[1;33m\u001b[0m\u001b[0m\n\u001b[0;32m      5\u001b[0m \u001b[0mplt\u001b[0m\u001b[1;33m.\u001b[0m\u001b[0mshow\u001b[0m\u001b[1;33m(\u001b[0m\u001b[1;33m)\u001b[0m\u001b[1;33m\u001b[0m\u001b[1;33m\u001b[0m\u001b[0m\n",
      "\u001b[1;31mNameError\u001b[0m: name 'oriImg' is not defined"
     ]
    }
   ],
   "metadata": {
    "id": "ZFC-m6szGgt6",
    "outputId": "5b73a685-3801-4d49-d217-d8ba2afc78b0"
   }
  },
  {
   "cell_type": "code",
   "execution_count": null,
   "source": [],
   "outputs": [],
   "metadata": {}
  },
  {
   "cell_type": "code",
   "execution_count": null,
   "source": [],
   "outputs": [],
   "metadata": {}
  }
 ],
 "metadata": {
  "colab": {
   "collapsed_sections": [],
   "name": "4-7_OpenPose_inference.ipynb",
   "provenance": []
  },
  "kernelspec": {
   "name": "python3",
   "display_name": "Python 3.9.6 64-bit (windows store)"
  },
  "language_info": {
   "codemirror_mode": {
    "name": "ipython",
    "version": 3
   },
   "file_extension": ".py",
   "mimetype": "text/x-python",
   "name": "python",
   "nbconvert_exporter": "python",
   "pygments_lexer": "ipython3",
   "version": "3.9.6"
  },
  "interpreter": {
   "hash": "03d03d33bf455c523e647d4d6faff24b4a2b38ed9399756089f0263d7cf05e67"
  }
 },
 "nbformat": 4,
 "nbformat_minor": 1
}